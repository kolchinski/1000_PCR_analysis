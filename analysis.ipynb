{
 "cells": [
  {
   "cell_type": "code",
   "execution_count": 10,
   "metadata": {},
   "outputs": [],
   "source": [
    "import numpy as np\n",
    "import matplotlib.pyplot as plt\n"
   ]
  },
  {
   "cell_type": "code",
   "execution_count": 6,
   "metadata": {},
   "outputs": [],
   "source": [
    "with open('PCRsforR.csv') as f:\n",
    "    lines = f.readlines()\n",
    "    "
   ]
  },
  {
   "cell_type": "code",
   "execution_count": 13,
   "metadata": {},
   "outputs": [
    {
     "name": "stdout",
     "output_type": "stream",
     "text": [
      "586\n"
     ]
    }
   ],
   "source": [
    "split_lines = [line.strip().split(',') for line in lines]\n",
    "\n",
    "split_lines = split_lines[2:]\n",
    "\n",
    "print(len(split_lines))\n",
    "\n",
    "\n",
    "base_pair_counts = [int(round(float(x[0]))) for x in split_lines]\n",
    "x = base_pair_counts"
   ]
  },
  {
   "cell_type": "code",
   "execution_count": 14,
   "metadata": {},
   "outputs": [
    {
     "data": {
      "image/png": "[encoded data removed]",
      "text/plain": [
       "<Figure size 432x288 with 1 Axes>"
      ]
     },
     "metadata": {
      "needs_background": "light"
     },
     "output_type": "display_data"
    }
   ],
   "source": [
    "plt.hist(x)\n",
    "plt.show()"
   ]
  },
  {
   "cell_type": "code",
   "execution_count": 20,
   "metadata": {},
   "outputs": [
    {
     "data": {
      "image/png": "[encoded data removed]",
      "text/plain": [
       "<Figure size 432x288 with 1 Axes>"
      ]
     },
     "metadata": {
      "needs_background": "light"
     },
     "output_type": "display_data"
    }
   ],
   "source": [
    "plt.hist(x, bins=100)\n",
    "plt.xlim(200,600)\n",
    "plt.show()"
   ]
  },
  {
   "cell_type": "code",
   "execution_count": null,
   "metadata": {},
   "outputs": [],
   "source": [
    "\n",
    "from sklearn.mixture import GMM\n",
    "from sklearn.mixture import GaussianMixture\n",
    "from sklearn.mixture import GaussianMixture as GM\n",
    "GM\n",
    "gmm = GMM(n_components=4).fit(X)\n",
    "gmm = GM(n_components=4).fit(X)\n",
    "gmm = GM(n_components=4).fit(x)\n",
    "gmm = GM(n_components=4).fit(x.reshape(-1,1))\n",
    "labels = gmm.predict(x)\n",
    "labels = gmm.predict(x.reshape(-1,1))\n",
    "plt.scatter(x, x, c=labels, s=40, cmap='viridis')\n",
    "plt.show()\n",
    "gmm = GM(n_components=2).fit(x.reshape(-1,1))\n",
    "labels = gmm.predict(x)\n",
    "labels = gmm.predict(x.reshape(-1,1))\n",
    "plt.scatter(x, x, c=labels, s=40, cmap='viridis')\n",
    "plt.show()\n",
    "gmm.score()\n",
    "gmm.score(x)\n",
    "gmm.score(x.reshape(-1,1))\n",
    "single_gaussian = GM(n_components=1).fit(x.reshape(-1,1))\n",
    "single_labels = single_gaussian.predict(x.reshape(-1,1))\n",
    "plt.scatter(x, x, c=single_labels, s=40, cmap='viridis')\n",
    "plt.show()\n",
    "single_gaussian.score(x.reshape(-1,1))\n",
    "log_prob1 = single_gaussian.score(x.reshape(-1,1))\n",
    "log_prob_2 = gmm.score(x.reshape(-1,1))\n",
    "log_prob1\n",
    "log_prob2\n",
    "log_prob2 = log_prob_2\n",
    "log_prob2\n",
    "len(x)\n",
    "lambda1 = log_prob1*len(x)\n",
    "lambda2 = log_prob2*len(x)\n",
    "lambda1\n",
    "lambda2\n",
    "diff = lambda1-lambda2\n",
    "diff\n",
    "lr = diff*-2\n",
    "lr\n",
    "from scipy import stats\n",
    "stats.chi2.pdf(69.37,2)\n",
    "get_ipython().run_line_magic('save', 'pcr_clustering.py _')\n",
    "get_ipython().run_line_magic('save', 'pcr_clustering.py _oh')\n",
    "get_ipython().run_line_magic('save', 'pcr_clustering.py')\n",
    "get_ipython().run_line_magic('save', 'mysession 1-99999')\n"
   ]
  },
  {
   "cell_type": "code",
   "execution_count": null,
   "metadata": {},
   "outputs": [],
   "source": []
  }
 ],
 "metadata": {
  "kernelspec": {
   "display_name": "Python 3",
   "language": "python",
   "name": "python3"
  },
  "language_info": {
   "codemirror_mode": {
    "name": "ipython",
    "version": 3
   },
   "file_extension": ".py",
   "mimetype": "text/x-python",
   "name": "python",
   "nbconvert_exporter": "python",
   "pygments_lexer": "ipython3",
   "version": "3.7.3"
  }
 },
 "nbformat": 4,
 "nbformat_minor": 2
}
